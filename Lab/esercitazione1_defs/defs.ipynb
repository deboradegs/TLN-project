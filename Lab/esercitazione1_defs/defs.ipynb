{
 "cells": [
  {
   "cell_type": "code",
   "execution_count": 1,
   "metadata": {
    "collapsed": true,
    "pycharm": {
     "name": "#%%\n"
    }
   },
   "outputs": [],
   "source": [
    "import pandas as pd\n",
    "from nltk.corpus import stopwords\n",
    "from nltk.tokenize import word_tokenize\n",
    "from nltk.stem import WordNetLemmatizer\n",
    "import string\n",
    "from collections import Counter\n",
    "from tabulate import tabulate\n",
    "\n",
    "lemmatizer = WordNetLemmatizer()"
   ]
  },
  {
   "cell_type": "code",
   "execution_count": 1,
   "metadata": {
    "collapsed": false,
    "pycharm": {
     "name": "#%%\n"
    }
   },
   "outputs": [],
   "source": [
    "def read_data_to_dict():\n",
    "    return pd.read_excel('../resources/definizioni.xlsx', index_col=0).T.to_dict('list')"
   ]
  },
  {
   "cell_type": "code",
   "execution_count": 2,
   "metadata": {
    "collapsed": false,
    "pycharm": {
     "name": "#%%\n"
    }
   },
   "outputs": [],
   "source": [
    "def words_frequency(dictionary: dict, n_common):\n",
    "    frequencies = dict()\n",
    "    for concept, definitions in dictionary.items():\n",
    "        words = list()\n",
    "        for definition in definitions[:len(definitions) - 1]:\n",
    "            if definition == definition:\n",
    "                words.extend(\n",
    "                    [word for word in word_tokenize(definition.lower()) if\n",
    "                     not word in string.punctuation and not word in stopwords.words('english')])\n",
    "            else:\n",
    "                definitions.remove(definition)\n",
    "        frequencies[concept] = [t[0] for t in Counter(words).most_common(n_common)]\n",
    "    return frequencies"
   ]
  },
  {
   "cell_type": "code",
   "execution_count": 3,
   "metadata": {
    "collapsed": false,
    "pycharm": {
     "name": "#%%\n"
    }
   },
   "outputs": [],
   "source": [
    "def get_definitions_overlap_score(dictionary, common_words):\n",
    "    occurrences_score = dict()\n",
    "    for (concept, definitions), words in zip(dictionary.items(), common_words.values()):\n",
    "        occurrences = list()\n",
    "        for word in words:\n",
    "            counter = 0\n",
    "            for definition in definitions:\n",
    "                if word in word_tokenize(definition.lower()): counter += 1\n",
    "            occurrences.append(counter)\n",
    "        occurrences_score[concept] = round(sum([x / len(definitions) for x in occurrences]) / len(occurrences), 3)\n",
    "    return occurrences_score"
   ]
  },
  {
   "cell_type": "code",
   "execution_count": 4,
   "metadata": {
    "collapsed": false,
    "pycharm": {
     "name": "#%%\n"
    }
   },
   "outputs": [],
   "source": [
    "def get_concept_overlap_score(score):\n",
    "    overlap_dict = dict()\n",
    "    overlap_dict['concrete-concrete'] = (score['Brick'] + score['Person']) / 2\n",
    "    overlap_dict['abstract-abstract'] = (score['Emotion'] + score['Revenge']) / 2\n",
    "    overlap_dict['generic-generic'] = (score['Emotion'] + score['Person']) / 2\n",
    "    overlap_dict['specific-specific'] = (score['Brick'] + score['Revenge']) / 2\n",
    "    return overlap_dict"
   ]
  },
  {
   "cell_type": "code",
   "execution_count": 6,
   "metadata": {
    "collapsed": false,
    "pycharm": {
     "name": "#%%\n"
    }
   },
   "outputs": [
    {
     "ename": "NameError",
     "evalue": "name 'pd' is not defined",
     "output_type": "error",
     "traceback": [
      "\u001b[0;31m---------------------------------------------------------------------------\u001b[0m",
      "\u001b[0;31mNameError\u001b[0m                                 Traceback (most recent call last)",
      "Cell \u001b[0;32mIn [6], line 1\u001b[0m\n\u001b[0;32m----> 1\u001b[0m df_dict \u001b[39m=\u001b[39m read_data_to_dict()\n\u001b[1;32m      2\u001b[0m df_dict_freq \u001b[39m=\u001b[39m words_frequency(df_dict, \u001b[39m5\u001b[39m)\n\u001b[1;32m      3\u001b[0m def_overlap_score \u001b[39m=\u001b[39m get_definitions_overlap_score(df_dict, df_dict_freq)\n",
      "Cell \u001b[0;32mIn [1], line 2\u001b[0m, in \u001b[0;36mread_data_to_dict\u001b[0;34m()\u001b[0m\n\u001b[1;32m      1\u001b[0m \u001b[39mdef\u001b[39;00m \u001b[39mread_data_to_dict\u001b[39m():\n\u001b[0;32m----> 2\u001b[0m     \u001b[39mreturn\u001b[39;00m pd\u001b[39m.\u001b[39mread_excel(\u001b[39m'\u001b[39m\u001b[39m../resources/definizioni.xlsx\u001b[39m\u001b[39m'\u001b[39m, index_col\u001b[39m=\u001b[39m\u001b[39m0\u001b[39m)\u001b[39m.\u001b[39mT\u001b[39m.\u001b[39mto_dict(\u001b[39m'\u001b[39m\u001b[39mlist\u001b[39m\u001b[39m'\u001b[39m)\n",
      "\u001b[0;31mNameError\u001b[0m: name 'pd' is not defined"
     ]
    }
   ],
   "source": [
    "df_dict = read_data_to_dict()\n",
    "df_dict_freq = words_frequency(df_dict, 5)\n",
    "def_overlap_score = get_definitions_overlap_score(df_dict, df_dict_freq)\n",
    "concept_overlap_score = get_concept_overlap_score(def_overlap_score)"
   ]
  },
  {
   "cell_type": "code",
   "execution_count": 7,
   "metadata": {
    "collapsed": false,
    "pycharm": {
     "name": "#%%\n"
    }
   },
   "outputs": [
    {
     "name": "stdout",
     "output_type": "stream",
     "text": [
      "-------- The five most common words in each definition by concept --------\n",
      "\n",
      "| Concept   | 1       | 2      | 3        | 4         | 5            |\n",
      "|-----------+---------+--------+----------+-----------+--------------|\n",
      "| Emotion   | feeling | human  | feel     | something | state        |\n",
      "| Person    | human   | person | living   | entity    | individual   |\n",
      "| Revenge   | someone | anger  | feeling  | action    | reaction     |\n",
      "| Brick     | used    | object | material | build     | construction |\n",
      "\n",
      "\n",
      "-------- Definitions overlap score for each concept --------\n",
      "\n",
      "| Concept   |   Score |\n",
      "|-----------+---------|\n",
      "| Emotion   |   0.253 |\n",
      "| Person    |   0.252 |\n",
      "| Revenge   |   0.267 |\n",
      "| Brick     |   0.523 |\n",
      "\n",
      "\n",
      "-------- Concept overlap score --------\n",
      "\n",
      "| Concept           |   Score |\n",
      "|-------------------+---------|\n",
      "| concrete-concrete |  0.3875 |\n",
      "| abstract-abstract |  0.26   |\n",
      "| generic-generic   |  0.2525 |\n",
      "| specific-specific |  0.395  |\n",
      "\n",
      "\n"
     ]
    }
   ],
   "source": [
    "def print_results(df_dict_freq, def_overlap_score, concept_overlap_score):\n",
    "    to_print = list()\n",
    "    for key, value in df_dict_freq.items():\n",
    "        table = [key]\n",
    "        table.extend(value)\n",
    "        to_print.append(table)\n",
    "    print(f'-------- The five most common words in each definition by concept --------')\n",
    "    print()\n",
    "    print(tabulate(to_print, headers=['Concept', 1, 2, 3, 4, 5], tablefmt='orgtbl'))\n",
    "    print()\n",
    "    print()\n",
    "\n",
    "    print(f'-------- Definitions overlap score for each concept --------')\n",
    "    print()\n",
    "    to_print = [[key, val] for key, val in def_overlap_score.items()]\n",
    "    print(tabulate(to_print, headers=['Concept', 'Score'], tablefmt='orgtbl'))\n",
    "    print()\n",
    "    print()\n",
    "\n",
    "    print(f'-------- Concept overlap score --------')\n",
    "    print()\n",
    "    to_print = [[key, val] for key, val in concept_overlap_score.items()]\n",
    "    print(tabulate(to_print, headers=['Concept', 'Score'], tablefmt='orgtbl'))\n",
    "    print()\n",
    "    print()\n",
    "print_results(df_dict_freq, def_overlap_score, concept_overlap_score)"
   ]
  }
 ],
 "metadata": {
  "kernelspec": {
   "display_name": "Python 3.10.6 64-bit",
   "language": "python",
   "name": "python3"
  },
  "language_info": {
   "codemirror_mode": {
    "name": "ipython",
    "version": 3
   },
   "file_extension": ".py",
   "mimetype": "text/x-python",
   "name": "python",
   "nbconvert_exporter": "python",
   "pygments_lexer": "ipython3",
   "version": "3.10.6"
  },
  "vscode": {
   "interpreter": {
    "hash": "916dbcbb3f70747c44a77c7bcd40155683ae19c65e1c03b4aa3499c5328201f1"
   }
  }
 },
 "nbformat": 4,
 "nbformat_minor": 0
}
