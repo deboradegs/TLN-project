{
 "cells": [
  {
   "cell_type": "code",
   "execution_count": 2,
   "metadata": {
    "collapsed": true,
    "pycharm": {
     "name": "#%%\n"
    }
   },
   "outputs": [],
   "source": [
    "import pandas as pd\n",
    "from nltk.corpus import stopwords\n",
    "from nltk.corpus import wordnet as wn\n",
    "from nltk.tokenize import word_tokenize\n",
    "from nltk.stem import WordNetLemmatizer\n",
    "import string\n",
    "from collections import Counter\n",
    "from tabulate import tabulate"
   ]
  },
  {
   "cell_type": "code",
   "execution_count": 3,
   "metadata": {
    "collapsed": false,
    "pycharm": {
     "name": "#%%\n"
    }
   },
   "outputs": [],
   "source": [
    "lemmatizer = WordNetLemmatizer()\n",
    "vector_dimension = 3\n",
    "stop_words = stopwords.words('english')\n",
    "stop_words.extend(['someone', 'something', 'e', 'e.g', 'u', 'ha', 'e.i', 'others', \"'s\"])\n",
    "string_punctuation = string.punctuation + '’'"
   ]
  },
  {
   "cell_type": "code",
   "execution_count": 4,
   "metadata": {
    "collapsed": false,
    "pycharm": {
     "name": "#%%\n"
    }
   },
   "outputs": [],
   "source": [
    "concept_definitions = pd.read_excel('../resources/definizioni.xlsx', index_col=0).T.to_dict('list')"
   ]
  },
  {
   "cell_type": "code",
   "execution_count": 5,
   "metadata": {
    "collapsed": false,
    "pycharm": {
     "name": "#%%\n"
    }
   },
   "outputs": [],
   "source": [
    "def text_preprocessing(text):\n",
    "    words = list()\n",
    "    for word in word_tokenize(text.lower()):\n",
    "        lemma = lemmatizer.lemmatize(word)\n",
    "        if lemma not in stop_words and lemma not in string_punctuation:\n",
    "            words.append(lemma)\n",
    "    return words"
   ]
  },
  {
   "cell_type": "code",
   "execution_count": 6,
   "metadata": {
    "collapsed": false,
    "pycharm": {
     "name": "#%%\n"
    }
   },
   "outputs": [
    {
     "name": "stdout",
     "output_type": "stream",
     "text": [
      "{'Emotion': ['feeling', 'human', 'feel'], 'Person': ['human', 'person', 'living'], 'Revenge': ['anger', 'feeling', 'action'], 'Brick': ['used', 'object', 'material']}\n"
     ]
    }
   ],
   "source": [
    "def get_common_words():\n",
    "    concept_common_words = dict()\n",
    "    for key, value in concept_definitions.items():\n",
    "        common_words = list()\n",
    "        for definition in value:\n",
    "            if definition == definition:\n",
    "                common_words.extend(text_preprocessing(definition))\n",
    "        concept_common_words[key] = [lemma for lemma, count in Counter(common_words).most_common(vector_dimension)]\n",
    "    return concept_common_words\n",
    "\n",
    "\n",
    "concept_common_words = get_common_words()\n",
    "print(concept_common_words)"
   ]
  },
  {
   "cell_type": "code",
   "execution_count": 7,
   "metadata": {
    "collapsed": false,
    "pycharm": {
     "name": "#%%\n"
    }
   },
   "outputs": [],
   "source": [
    "def get_synsets_from_genus():\n",
    "    concept_genus_synsets = dict()\n",
    "    for key, value in concept_common_words.items():\n",
    "        genus_synstes = list()\n",
    "        for word in value:\n",
    "            genus_synstes.extend(wn.synsets(word))\n",
    "            \n",
    "        genus_synstes = list(dict.fromkeys(genus_synstes))\n",
    "        concept_genus_synsets[key] = genus_synstes\n",
    "    return concept_genus_synsets\n",
    "\n",
    "\n",
    "concept_genus_synsets = get_synsets_from_genus()"
   ]
  },
  {
   "cell_type": "code",
   "execution_count": 8,
   "metadata": {
    "collapsed": false,
    "pycharm": {
     "name": "#%%\n"
    }
   },
   "outputs": [],
   "source": [
    "def get_hyponyms_from_genus():\n",
    "    for key, value in concept_genus_synsets.items():\n",
    "        for synset in value:\n",
    "            concept_genus_synsets[key].extend(synset.hyponyms())\n",
    "            concept_genus_synsets[key] = list(dict.fromkeys(concept_genus_synsets[key]))\n",
    "\n",
    "get_hyponyms_from_genus()"
   ]
  },
  {
   "cell_type": "code",
   "execution_count": 9,
   "metadata": {
    "collapsed": false,
    "pycharm": {
     "name": "#%%\n"
    }
   },
   "outputs": [],
   "source": [
    "def get_context(synset):\n",
    "    context = list()\n",
    "    context.extend(text_preprocessing(synset.definition()))\n",
    "    for example in synset.examples():\n",
    "        context.extend(text_preprocessing(example))\n",
    "    context = list(dict.fromkeys(context))\n",
    "    print(context)\n",
    "    return context\n",
    "\n",
    "\n",
    "def weighted_overlap_score(v1, v2, key):\n",
    "    weight = 1\n",
    "    overlap = set(v1) & set(v2)\n",
    "    #for word in overlap:\n",
    "        #weight += concept_common_words[key].index(word)\n",
    "    score = float(len(overlap)) / (len(set(v1) | set(v2)))\n",
    "    return score\n",
    "\n",
    "\n",
    "def rank_synsets(synsets, key):\n",
    "    synsets_ranked = list()\n",
    "    common_words = concept_common_words[key]\n",
    "    for synset in synsets:\n",
    "        synsets_ranked.append((synset, weighted_overlap_score(common_words, get_context(synset), key)))\n",
    "    return sorted([item for item in synsets_ranked if item[1] > 0], key=lambda item: item[1], reverse=True)"
   ]
  },
  {
   "cell_type": "code",
   "execution_count": 10,
   "metadata": {
    "collapsed": false,
    "pycharm": {
     "name": "#%%\n"
    }
   },
   "outputs": [],
   "source": [
    "def get_genus_synsets_ranked():\n",
    "    concept_genus_synsets_ranked = dict()\n",
    "    for key, value in concept_genus_synsets.items():\n",
    "        concept_genus_synsets_ranked[key] = rank_synsets(value, key)[:5]\n",
    "    return concept_genus_synsets_ranked\n",
    "\n",
    "\n",
    "concept_genus_synsets_ranked = get_genus_synsets_ranked()"
   ]
  },
  {
   "cell_type": "code",
   "execution_count": 11,
   "metadata": {
    "collapsed": false,
    "pycharm": {
     "name": "#%%\n"
    }
   },
   "outputs": [
    {
     "name": "stdout",
     "output_type": "stream",
     "text": [
      "----- Best 5 sense for Emotion -----\n",
      "\n"
     ]
    },
    {
     "ename": "AttributeError",
     "evalue": "'str' object has no attribute '_name'",
     "output_type": "error",
     "traceback": [
      "\u001b[0;31m---------------------------------------------------------------------------\u001b[0m",
      "\u001b[0;31mAttributeError\u001b[0m                            Traceback (most recent call last)",
      "Cell \u001b[0;32mIn [11], line 10\u001b[0m\n\u001b[1;32m      8\u001b[0m \u001b[39mprint\u001b[39m(\u001b[39mf\u001b[39m\u001b[39m'\u001b[39m\u001b[39m----- Best 5 sense for \u001b[39m\u001b[39m{\u001b[39;00mkey\u001b[39m}\u001b[39;00m\u001b[39m -----\u001b[39m\u001b[39m'\u001b[39m)\n\u001b[1;32m      9\u001b[0m \u001b[39mprint\u001b[39m()\n\u001b[0;32m---> 10\u001b[0m \u001b[39mprint\u001b[39m(tabulate(to_print, headers\u001b[39m=\u001b[39m[\u001b[39m'\u001b[39m\u001b[39mSynset\u001b[39m\u001b[39m'\u001b[39m, \u001b[39m'\u001b[39m\u001b[39mDefinition\u001b[39m\u001b[39m'\u001b[39m, \u001b[39m'\u001b[39m\u001b[39mWeighted Overlap Score\u001b[39m\u001b[39m'\u001b[39m], tablefmt\u001b[39m=\u001b[39m\u001b[39m'\u001b[39m\u001b[39morgtbl\u001b[39m\u001b[39m'\u001b[39m))\n\u001b[1;32m     11\u001b[0m \u001b[39mprint\u001b[39m()\n",
      "File \u001b[0;32m~/.local/lib/python3.10/site-packages/tabulate/__init__.py:2048\u001b[0m, in \u001b[0;36mtabulate\u001b[0;34m(tabular_data, headers, tablefmt, floatfmt, intfmt, numalign, stralign, missingval, showindex, disable_numparse, colalign, maxcolwidths, rowalign, maxheadercolwidths)\u001b[0m\n\u001b[1;32m   2045\u001b[0m \u001b[39mif\u001b[39;00m tabular_data \u001b[39mis\u001b[39;00m \u001b[39mNone\u001b[39;00m:\n\u001b[1;32m   2046\u001b[0m     tabular_data \u001b[39m=\u001b[39m []\n\u001b[0;32m-> 2048\u001b[0m list_of_lists, headers \u001b[39m=\u001b[39m _normalize_tabular_data(\n\u001b[1;32m   2049\u001b[0m     tabular_data, headers, showindex\u001b[39m=\u001b[39;49mshowindex\n\u001b[1;32m   2050\u001b[0m )\n\u001b[1;32m   2051\u001b[0m list_of_lists, separating_lines \u001b[39m=\u001b[39m _remove_separating_lines(list_of_lists)\n\u001b[1;32m   2053\u001b[0m \u001b[39mif\u001b[39;00m maxcolwidths \u001b[39mis\u001b[39;00m \u001b[39mnot\u001b[39;00m \u001b[39mNone\u001b[39;00m:\n",
      "File \u001b[0;32m~/.local/lib/python3.10/site-packages/tabulate/__init__.py:1471\u001b[0m, in \u001b[0;36m_normalize_tabular_data\u001b[0;34m(tabular_data, headers, showindex)\u001b[0m\n\u001b[1;32m   1469\u001b[0m headers \u001b[39m=\u001b[39m \u001b[39mlist\u001b[39m(\u001b[39mmap\u001b[39m(\u001b[39mstr\u001b[39m, headers))\n\u001b[1;32m   1470\u001b[0m \u001b[39m#    rows = list(map(list, rows))\u001b[39;00m\n\u001b[0;32m-> 1471\u001b[0m rows \u001b[39m=\u001b[39m \u001b[39mlist\u001b[39;49m(\u001b[39mmap\u001b[39;49m(\u001b[39mlambda\u001b[39;49;00m r: r \u001b[39mif\u001b[39;49;00m _is_separating_line(r) \u001b[39melse\u001b[39;49;00m \u001b[39mlist\u001b[39;49m(r), rows))\n\u001b[1;32m   1473\u001b[0m \u001b[39m# add or remove an index column\u001b[39;00m\n\u001b[1;32m   1474\u001b[0m showindex_is_a_str \u001b[39m=\u001b[39m \u001b[39mtype\u001b[39m(showindex) \u001b[39min\u001b[39;00m [\u001b[39mstr\u001b[39m, \u001b[39mbytes\u001b[39m]\n",
      "File \u001b[0;32m~/.local/lib/python3.10/site-packages/tabulate/__init__.py:1471\u001b[0m, in \u001b[0;36m_normalize_tabular_data.<locals>.<lambda>\u001b[0;34m(r)\u001b[0m\n\u001b[1;32m   1469\u001b[0m headers \u001b[39m=\u001b[39m \u001b[39mlist\u001b[39m(\u001b[39mmap\u001b[39m(\u001b[39mstr\u001b[39m, headers))\n\u001b[1;32m   1470\u001b[0m \u001b[39m#    rows = list(map(list, rows))\u001b[39;00m\n\u001b[0;32m-> 1471\u001b[0m rows \u001b[39m=\u001b[39m \u001b[39mlist\u001b[39m(\u001b[39mmap\u001b[39m(\u001b[39mlambda\u001b[39;00m r: r \u001b[39mif\u001b[39;00m _is_separating_line(r) \u001b[39melse\u001b[39;00m \u001b[39mlist\u001b[39m(r), rows))\n\u001b[1;32m   1473\u001b[0m \u001b[39m# add or remove an index column\u001b[39;00m\n\u001b[1;32m   1474\u001b[0m showindex_is_a_str \u001b[39m=\u001b[39m \u001b[39mtype\u001b[39m(showindex) \u001b[39min\u001b[39;00m [\u001b[39mstr\u001b[39m, \u001b[39mbytes\u001b[39m]\n",
      "File \u001b[0;32m~/.local/lib/python3.10/site-packages/tabulate/__init__.py:107\u001b[0m, in \u001b[0;36m_is_separating_line\u001b[0;34m(row)\u001b[0m\n\u001b[1;32m    104\u001b[0m \u001b[39mdef\u001b[39;00m \u001b[39m_is_separating_line\u001b[39m(row):\n\u001b[1;32m    105\u001b[0m     row_type \u001b[39m=\u001b[39m \u001b[39mtype\u001b[39m(row)\n\u001b[1;32m    106\u001b[0m     is_sl \u001b[39m=\u001b[39m (row_type \u001b[39m==\u001b[39m \u001b[39mlist\u001b[39m \u001b[39mor\u001b[39;00m row_type \u001b[39m==\u001b[39m \u001b[39mstr\u001b[39m) \u001b[39mand\u001b[39;00m (\n\u001b[0;32m--> 107\u001b[0m         (\u001b[39mlen\u001b[39m(row) \u001b[39m>\u001b[39m\u001b[39m=\u001b[39m \u001b[39m1\u001b[39m \u001b[39mand\u001b[39;00m row[\u001b[39m0\u001b[39;49m] \u001b[39m==\u001b[39;49m SEPARATING_LINE)\n\u001b[1;32m    108\u001b[0m         \u001b[39mor\u001b[39;00m (\u001b[39mlen\u001b[39m(row) \u001b[39m>\u001b[39m\u001b[39m=\u001b[39m \u001b[39m2\u001b[39m \u001b[39mand\u001b[39;00m row[\u001b[39m1\u001b[39m] \u001b[39m==\u001b[39m SEPARATING_LINE)\n\u001b[1;32m    109\u001b[0m     )\n\u001b[1;32m    110\u001b[0m     \u001b[39mreturn\u001b[39;00m is_sl\n",
      "File \u001b[0;32m~/.local/lib/python3.10/site-packages/nltk/corpus/reader/wordnet.py:205\u001b[0m, in \u001b[0;36m_WordNetObject.__eq__\u001b[0;34m(self, other)\u001b[0m\n\u001b[1;32m    204\u001b[0m \u001b[39mdef\u001b[39;00m \u001b[39m__eq__\u001b[39m(\u001b[39mself\u001b[39m, other):\n\u001b[0;32m--> 205\u001b[0m     \u001b[39mreturn\u001b[39;00m \u001b[39mself\u001b[39m\u001b[39m.\u001b[39m_name \u001b[39m==\u001b[39m other\u001b[39m.\u001b[39;49m_name\n",
      "\u001b[0;31mAttributeError\u001b[0m: 'str' object has no attribute '_name'"
     ]
    }
   ],
   "source": [
    "for key, value in concept_genus_synsets_ranked.items():\n",
    "    to_print = list()\n",
    "    for item in value:\n",
    "        rows = list(item)\n",
    "        rows.insert(1, item[0].definition().capitalize())\n",
    "        to_print.append(rows)\n",
    "\n",
    "    print(f'----- Best 5 sense for {key} -----')\n",
    "    print()\n",
    "    print(tabulate(to_print, headers=['Synset', 'Definition', 'Weighted Overlap Score'], tablefmt='orgtbl'))\n",
    "    print()"
   ]
  }
 ],
 "metadata": {
  "kernelspec": {
   "display_name": "Python 3.10.6 64-bit",
   "language": "python",
   "name": "python3"
  },
  "language_info": {
   "codemirror_mode": {
    "name": "ipython",
    "version": 3
   },
   "file_extension": ".py",
   "mimetype": "text/x-python",
   "name": "python",
   "nbconvert_exporter": "python",
   "pygments_lexer": "ipython3",
   "version": "3.10.6"
  },
  "vscode": {
   "interpreter": {
    "hash": "916dbcbb3f70747c44a77c7bcd40155683ae19c65e1c03b4aa3499c5328201f1"
   }
  }
 },
 "nbformat": 4,
 "nbformat_minor": 0
}
